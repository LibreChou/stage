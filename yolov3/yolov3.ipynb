{
 "cells": [
  {
   "cell_type": "code",
   "execution_count": 1,
   "metadata": {},
   "outputs": [],
   "source": [
    "#https://github.com/meenavyas/Misc/blob/master/ObjectDetectionUsingYolo/ObjectDetectionUsingYolo.ipynb\n",
    "import cv2\n",
    "import numpy as np"
   ]
  },
  {
   "cell_type": "code",
   "execution_count": 2,
   "metadata": {},
   "outputs": [],
   "source": []
  },
  {
   "cell_type": "code",
   "execution_count": null,
   "metadata": {},
   "outputs": [],
   "source": [
    "\n",
    "\n",
    "# 'path to input image/video'\n",
    "IMAGE='./2.mp4'\n",
    "\n",
    "# 'path to yolo config file' \n",
    "# download https://github.com/arunponnusamy/object-detection-opencv/blob/master/yolov3.cfg\n",
    "CONFIG='./yolov3.cfg'\n",
    "\n",
    "# 'path to text file containing class names'\n",
    "# download https://github.com/arunponnusamy/object-detection-opencv/blob/master/yolov3.txt\n",
    "CLASSES='./yolov3.txt'\n",
    "\n",
    "# 'path to yolo pre-trained weights' \n",
    "# wget https://pjreddie.com/media/files/yolov3.weights\n",
    "WEIGHTS='./yolov3.weights'"
   ]
  },
  {
   "cell_type": "code",
   "execution_count": 3,
   "metadata": {},
   "outputs": [
    {
     "name": "stdout",
     "output_type": "stream",
     "text": [
      "True\n",
      "True\n",
      "True\n",
      "True\n"
     ]
    }
   ],
   "source": [
    "#check if exist\n",
    "import os  \n",
    "print(os.path.exists(CLASSES))\n",
    "print(os.path.exists(CONFIG))\n",
    "print(os.path.exists(WEIGHTS))\n",
    "print(os.path.exists(IMAGE))"
   ]
  },
  {
   "cell_type": "code",
   "execution_count": 4,
   "metadata": {},
   "outputs": [],
   "source": [
    "\n",
    "# read class names from text file\n",
    "classes = None\n",
    "with open(CLASSES, 'r') as f:\n",
    "     classes = [line.strip() for line in f.readlines()]\n",
    "        \n",
    "scale = 0.00392\n",
    "conf_threshold = 0.5\n",
    "nms_threshold = 0.4\n",
    "\n",
    "# generate different colors for different classes \n",
    "COLORS = np.random.uniform(0, 255, size=(len(classes), 3))"
   ]
  },
  {
   "cell_type": "code",
   "execution_count": 5,
   "metadata": {},
   "outputs": [],
   "source": [
    "# function to get the output layer names \n",
    "# in the architecture\n",
    "def get_output_layers(net): \n",
    "    layer_names = net.getLayerNames()\n",
    "    output_layers = [layer_names[i[0] - 1] for i in net.getUnconnectedOutLayers()]\n",
    "    return output_layers\n",
    "\n",
    "# function to draw bounding box on the detected object with class name\n",
    "def draw_bounding_box(img, class_id, confidence, x, y, x_plus_w, y_plus_h):\n",
    "    label = str(classes[class_id])\n",
    "    color = COLORS[class_id]\n",
    "    cv2.rectangle(img, (x,y), (x_plus_w,y_plus_h), color, 2)\n",
    "    cv2.putText(img, label+':'+str(round(confidence,2)), (x-10,y-10), cv2.FONT_HERSHEY_SIMPLEX, 0.5, color, 2)"
   ]
  },
  {
   "cell_type": "code",
   "execution_count": 6,
   "metadata": {},
   "outputs": [],
   "source": [
    "#https://docs.opencv.org/3.4/d6/d0f/group__dnn.html\n",
    "\n",
    "def processImage(image,index):\n",
    "\n",
    "    Width = image.shape[1]\n",
    "    Height = image.shape[0]\n",
    "\n",
    "    # read pre-trained model and config file\n",
    "    net = cv2.dnn.readNet(WEIGHTS, CONFIG)\n",
    "\n",
    "    # create input blob \n",
    "    blob = cv2.dnn.blobFromImage(image, scale, (416,416), (0,0,0), True, crop=False)\n",
    "    # set input blob for the network\n",
    "    net.setInput(blob)\n",
    "\n",
    "    # run inference through the network\n",
    "    # and gather predictions from output layers\n",
    "    outs = net.forward(get_output_layers(net))\n",
    "\n",
    "    # initialization\n",
    "    class_ids = []\n",
    "    confidences = []\n",
    "    boxes = []\n",
    "    # for each detection from each output layer \n",
    "    # get the confidence, class id, bounding box params\n",
    "    # and ignore weak detections (confidence < 0.5)\n",
    "    \n",
    "    #detection = [x, y, w, h, scores]\n",
    "    for out in outs:\n",
    "        for detection in out:\n",
    "            scores = detection[5:] #score sur toutes les classes\n",
    "            class_id = np.argmax(scores) #class ayant le plus gros score\n",
    "            confidence = scores[class_id] #score de la classe en question\n",
    "            if confidence > 0.5:\n",
    "                center_x = int(detection[0] * Width)\n",
    "                center_y = int(detection[1] * Height)\n",
    "                w = int(detection[2] * Width)\n",
    "                h = int(detection[3] * Height)\n",
    "                x = center_x - w / 2\n",
    "                y = center_y - h / 2\n",
    "                class_ids.append(class_id)\n",
    "                confidences.append(float(confidence))\n",
    "                boxes.append([x, y, w, h])\n",
    "            \n",
    "    # apply non-max suppression\n",
    "    indices = cv2.dnn.NMSBoxes(boxes, confidences, conf_threshold, nms_threshold)\n",
    "\n",
    "    # go through the detections remaining\n",
    "    # after nms and draw bounding box\n",
    "    for i in indices:\n",
    "        i = i[0]\n",
    "        box = boxes[i]\n",
    "        x = box[0]\n",
    "        y = box[1]\n",
    "        w = box[2]\n",
    "        h = box[3]\n",
    "    \n",
    "        draw_bounding_box(image, class_ids[i], confidences[i], round(x), round(y), round(x+w), round(y+h))\n",
    "    \n",
    "    # display output image    \n",
    "    out_image_name = \"image\"+str(index)\n",
    "    #cv2.imshow(out_image_name, image)\n",
    "    # wait until any key is pressed\n",
    "    #cv2.waitKey()\n",
    "     # save output image to disk\n",
    "    cv2.imwrite(\"out/\"+out_image_name+\".jpg\", image)"
   ]
  },
  {
   "cell_type": "code",
   "execution_count": 7,
   "metadata": {},
   "outputs": [
    {
     "name": "stdout",
     "output_type": "stream",
     "text": [
      "1.mp4  out\t yolov3.cfg    yolov3.txt\r\n",
      "2.mp4  outvideo  yolov3.ipynb  yolov3.weights\r\n"
     ]
    }
   ],
   "source": [
    "!ls\n",
    "index = 0\n",
    "cap = cv2.VideoCapture(IMAGE)\n",
    "ret, frame = cap.read()\n",
    "processImage(frame,index)\n",
    "cv2.destroyAllWindows()"
   ]
  },
  {
   "cell_type": "code",
   "execution_count": null,
   "metadata": {},
   "outputs": [],
   "source": [
    "# open the video file\n",
    "cap = cv2.VideoCapture(IMAGE)\n",
    "\n",
    "index = 0\n",
    "while(cap.isOpened()):\n",
    "    ret, frame = cap.read()\n",
    "    processImage(frame,index)\n",
    "    index = index +1\n",
    "    \n",
    "# release resources\n",
    "cv2.destroyAllWindows()"
   ]
  },
  {
   "cell_type": "code",
   "execution_count": 3,
   "metadata": {},
   "outputs": [],
   "source": [
    "import cv2\n",
    "import numpy as np\n",
    "import os\n",
    "\n",
    "def frames_to_video(inputpath,outputpath,fps):\n",
    "   image_array = []\n",
    "   files = [f for f in os.listdir(inputpath) if os.path.isfile(os.path.join(inputpath, f))] #recuperer noms fichiers\n",
    "   files.sort(key = lambda x: int(x[5:-4])) #ranger les images dans ordre croissant\n",
    "   for i in range(len(files)):\n",
    "       img = cv2.imread(inputpath + files[i]) #lire l'image i\n",
    "       size =  (img.shape[1],img.shape[0]) #(1920,1080)\n",
    "       img = cv2.resize(img,size)\n",
    "       image_array.append(img) #ajouter à liste img\n",
    "   fourcc = cv2.VideoWriter_fourcc('D', 'I', 'V', 'X')\n",
    "   out = cv2.VideoWriter(outputpath,fourcc, fps, size)\n",
    "   for i in range(len(image_array)):\n",
    "       out.write(image_array[i]) #ecrire img dans flux sortant\n",
    "   out.release()\n",
    "\n",
    "\n",
    "inputpath = 'out/'\n",
    "outpath =  'outvideo/'+IMAGE\n",
    "fps = 29\n",
    "frames_to_video(inputpath,outpath,fps)"
   ]
  },
  {
   "cell_type": "code",
   "execution_count": null,
   "metadata": {},
   "outputs": [],
   "source": []
  },
  {
   "cell_type": "code",
   "execution_count": 4,
   "metadata": {},
   "outputs": [
    {
     "data": {
      "text/plain": [
       "<matplotlib.image.AxesImage at 0x7fa0192bc2e8>"
      ]
     },
     "execution_count": 4,
     "metadata": {},
     "output_type": "execute_result"
    }
   ],
   "source": [
    "import matplotlib.pyplot as plt\n",
    "import matplotlib.image as mpimg\n",
    "img = mpimg.imread('out/image0.jpg')\n",
    "plt.imshow(img)"
   ]
  }
 ],
 "metadata": {
  "kernelspec": {
   "display_name": "Python 3",
   "language": "python",
   "name": "python3"
  },
  "language_info": {
   "codemirror_mode": {
    "name": "ipython",
    "version": 3
   },
   "file_extension": ".py",
   "mimetype": "text/x-python",
   "name": "python",
   "nbconvert_exporter": "python",
   "pygments_lexer": "ipython3",
   "version": "3.6.5"
  }
 },
 "nbformat": 4,
 "nbformat_minor": 2
}
