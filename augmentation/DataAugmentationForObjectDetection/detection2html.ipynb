{
 "cells": [
  {
   "cell_type": "code",
   "execution_count": 1,
   "metadata": {},
   "outputs": [
    {
     "name": "stdout",
     "output_type": "stream",
     "text": [
      " Volume in drive C is Windows\n",
      " Volume Serial Number is D4F9-9E13\n",
      "\n",
      " Directory of C:\\Users\\MEHDIABOUZAID\\Desktop\\DataAugmentationForObjectDetection\n",
      "\n",
      "06/20/2019  03:19 PM    <DIR>          .\n",
      "06/20/2019  03:19 PM    <DIR>          ..\n",
      "06/20/2019  03:19 PM    <DIR>          .ipynb_checkpoints\n",
      "06/13/2019  02:37 PM                 0 __init__.py\n",
      "06/13/2019  02:37 PM           417,955 ann_form.jpg\n",
      "06/20/2019  03:15 PM    <DIR>          augmentation\n",
      "06/13/2019  02:37 PM    <DIR>          data_aug\n",
      "06/13/2019  02:37 PM    <DIR>          docs\n",
      "06/13/2019  02:37 PM    <DIR>          Images\n",
      "06/13/2019  02:37 PM            63,494 messi.jpg\n",
      "06/13/2019  02:37 PM               317 messi_ann.pkl\n",
      "06/14/2019  03:52 PM         1,478,783 quick-start.ipynb\n",
      "06/13/2019  02:37 PM               981 readme.md\n",
      "06/20/2019  01:51 PM         1,759,301 test_augmentation.ipynb\n",
      "06/14/2019  03:37 PM    <DIR>          test_images\n",
      "06/20/2019  03:19 PM                72 Untitled.ipynb\n",
      "               8 File(s)      3,720,903 bytes\n",
      "               8 Dir(s)  322,650,021,888 bytes free\n"
     ]
    }
   ],
   "source": []
  },
  {
   "cell_type": "code",
   "execution_count": null,
   "metadata": {},
   "outputs": [],
   "source": []
  }
 ],
 "metadata": {
  "kernelspec": {
   "display_name": "Python 3",
   "language": "python",
   "name": "python3"
  },
  "language_info": {
   "codemirror_mode": {
    "name": "ipython",
    "version": 3
   },
   "file_extension": ".py",
   "mimetype": "text/x-python",
   "name": "python",
   "nbconvert_exporter": "python",
   "pygments_lexer": "ipython3",
   "version": "3.7.3"
  }
 },
 "nbformat": 4,
 "nbformat_minor": 2
}
