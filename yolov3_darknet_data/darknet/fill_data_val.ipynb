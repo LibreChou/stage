{
 "cells": [
  {
   "cell_type": "code",
   "execution_count": 12,
   "metadata": {},
   "outputs": [],
   "source": [
    "import shutil\n",
    "f = open(\"data_val.txt\",\"r+\")\n",
    "lines=f.readlines()\n",
    "count=0\n",
    "for line in lines:\n",
    "    line=line.strip('\\n')\n",
    "    namejpg=line.split('/')\n",
    "    namejpg=namejpg[1]\n",
    "    name=namejpg.split('.')\n",
    "    name=name[0]\n",
    "    shutil.copy(line,'data_val/'+namejpg)\n",
    "    shutil.copy('labels/'+name+'.txt','data_val/'+name+'.txt')"
   ]
  }
 ],
 "metadata": {
  "kernelspec": {
   "display_name": "Python 3",
   "language": "python",
   "name": "python3"
  },
  "language_info": {
   "codemirror_mode": {
    "name": "ipython",
    "version": 3
   },
   "file_extension": ".py",
   "mimetype": "text/x-python",
   "name": "python",
   "nbconvert_exporter": "python",
   "pygments_lexer": "ipython3",
   "version": "3.6.8"
  }
 },
 "nbformat": 4,
 "nbformat_minor": 2
}
