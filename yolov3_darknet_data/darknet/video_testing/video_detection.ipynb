{
 "cells": [
  {
   "cell_type": "code",
   "execution_count": null,
   "metadata": {},
   "outputs": [],
   "source": [
    "#https://github.com/meenavyas/Misc/blob/master/ObjectDetectionUsingYolo/ObjectDetectionUsingYolo.ipynb\n",
    "import numpy as np\n",
    "import cv2"
   ]
  },
  {
   "cell_type": "code",
   "execution_count": null,
   "metadata": {},
   "outputs": [],
   "source": [
    "%matplotlib inline"
   ]
  },
  {
   "cell_type": "code",
   "execution_count": null,
   "metadata": {},
   "outputs": [],
   "source": [
    "# 'path to input image/video'\n",
    "IMAGE='./video_test.mp4'\n",
    "\n",
    "# 'path to yolo config file' \n",
    "# download https://github.com/arunponnusamy/object-detection-opencv/blob/master/yolov3.cfg\n",
    "CONFIG='./yolov3-tiny-data.cfg'\n",
    "\n",
    "# 'path to text file containing class names'\n",
    "# download https://github.com/arunponnusamy/object-detection-opencv/blob/master/yolov3.txt\n",
    "CLASSES='./classes.names'\n",
    "\n",
    "# 'path to yolo pre-trained weights' \n",
    "# wget https://pjreddie.com/media/files/yolov3.weights\n",
    "WEIGHTS='./weights/yolov3-tiny-data_final.weights'"
   ]
  },
  {
   "cell_type": "code",
   "execution_count": null,
   "metadata": {},
   "outputs": [],
   "source": [
    "#check if exist\n",
    "import os  \n",
    "print(os.path.exists(CLASSES))\n",
    "print(os.path.exists(CONFIG))\n",
    "print(os.path.exists(WEIGHTS))\n",
    "print(os.path.exists(IMAGE))"
   ]
  },
  {
   "cell_type": "code",
   "execution_count": null,
   "metadata": {},
   "outputs": [],
   "source": [
    "vidObj = cv2.VideoCapture(0) \n",
    "\n",
    "# Used as counter variable \n",
    "count = 0\n",
    "\n",
    "# checks whether frames were extracted \n",
    "success = 1\n",
    "\n",
    "while success: \n",
    "\n",
    "    # vidObj object calls read \n",
    "    # function extract frames \n",
    "    success, image = vidObj.read() \n",
    "\n",
    "    # Saves the frames with frame-count \n",
    "    cv2.imwrite(\"cam/image%d.jpg\" % count, image) \n",
    "\n",
    "    count += 1\n"
   ]
  },
  {
   "cell_type": "code",
   "execution_count": null,
   "metadata": {},
   "outputs": [],
   "source": [
    "import cv2\n",
    "count = 0\n",
    "check = True\n",
    "webcam=cv2.VideoCapture(0)\n",
    "while(check):\n",
    "    check,frame=webcam.read()\n",
    "    cv2.imwrite(\"ok%d.jpg\" % count,frame)\n",
    "    count += 1\n",
    "    cv2.waitKey(0)\n",
    "    webcam.release()"
   ]
  },
  {
   "cell_type": "code",
   "execution_count": null,
   "metadata": {},
   "outputs": [],
   "source": [
    "#Prediction of each frame\n",
    "for file in os.listdir(\"frames\"):\n",
    "    outputname = \"out/\"+file.split(\".\")[0]\n",
    "    !./darknet detector test darknet.data yolov3-tiny-data.cfg weights/yolov3-tiny-data_final.weights frames/$file -thresh 0.3 -out $outputname"
   ]
  },
  {
   "cell_type": "code",
   "execution_count": null,
   "metadata": {},
   "outputs": [],
   "source": [
    "import cv2\n",
    "import numpy as np\n",
    "import os\n",
    "\n",
    "def frames_to_video(inputpath,outputpath,fps):\n",
    "   image_array = []\n",
    "   files = [f for f in os.listdir(inputpath) if os.path.isfile(os.path.join(inputpath, f))] #recuperer noms fichiers\n",
    "   files.sort(key = lambda x: int(x[5:-4])) #ranger les images dans ordre croissant\n",
    "   for i in range(len(files)):\n",
    "       img = cv2.imread(inputpath + files[i]) #lire l'image i\n",
    "       size =  (img.shape[1],img.shape[0]) #(1920,1080)\n",
    "       img = cv2.resize(img,size)\n",
    "       image_array.append(img) #ajouter à liste img\n",
    "   fourcc = cv2.VideoWriter_fourcc('D', 'I', 'V', 'X')\n",
    "   out = cv2.VideoWriter(outputpath,fourcc, fps, size)\n",
    "   for i in range(len(image_array)):\n",
    "       out.write(image_array[i]) #ecrire img dans flux sortant\n",
    "   out.release()\n",
    "\n",
    "\n",
    "inputpath = 'out/'\n",
    "outpath =  'outvideo/'+IMAGE\n",
    "fps = 29\n",
    "frames_to_video(inputpath,outpath,fps)"
   ]
  },
  {
   "cell_type": "code",
   "execution_count": null,
   "metadata": {},
   "outputs": [],
   "source": [
    "image_folder = 'out'\n",
    "video_name = 'outvideo/video.mp4'\n",
    "\n",
    "images = [img for img in os.listdir(image_folder) if img.endswith(\".jpg\")]\n",
    "#frame = cv2.imread(os.path.join(image_folder, images[0]))\n",
    "height, width, layers = frame.shape\n",
    "\n",
    "video = cv2.VideoWriter(video_name, 0, 1, (width,height))\n",
    "\n",
    "for image in images:\n",
    "    video.write(cv2.imread(os.path.join(image_folder, image)))\n",
    "\n",
    "cv2.destroyAllWindows()\n",
    "video.release()"
   ]
  },
  {
   "cell_type": "code",
   "execution_count": null,
   "metadata": {},
   "outputs": [],
   "source": []
  }
 ],
 "metadata": {
  "kernelspec": {
   "display_name": "Python 3",
   "language": "python",
   "name": "python3"
  },
  "language_info": {
   "codemirror_mode": {
    "name": "ipython",
    "version": 3
   },
   "file_extension": ".py",
   "mimetype": "text/x-python",
   "name": "python",
   "nbconvert_exporter": "python",
   "pygments_lexer": "ipython3",
   "version": "3.6.8"
  }
 },
 "nbformat": 4,
 "nbformat_minor": 2
}
