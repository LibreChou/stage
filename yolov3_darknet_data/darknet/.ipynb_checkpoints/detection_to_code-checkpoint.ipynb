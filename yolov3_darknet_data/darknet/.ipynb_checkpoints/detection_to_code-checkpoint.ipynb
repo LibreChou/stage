{
 "cells": [
  {
   "cell_type": "code",
   "execution_count": 11,
   "metadata": {},
   "outputs": [
    {
     "name": "stdout",
     "output_type": "stream",
     "text": [
      "layer     filters    size              input                output\n",
      "    0 conv     16  3 x 3 / 1   416 x 416 x   3   ->   416 x 416 x  16  0.150 BFLOPs\n",
      "    1 max          2 x 2 / 2   416 x 416 x  16   ->   208 x 208 x  16\n",
      "    2 conv     32  3 x 3 / 1   208 x 208 x  16   ->   208 x 208 x  32  0.399 BFLOPs\n",
      "    3 max          2 x 2 / 2   208 x 208 x  32   ->   104 x 104 x  32\n",
      "    4 conv     64  3 x 3 / 1   104 x 104 x  32   ->   104 x 104 x  64  0.399 BFLOPs\n",
      "    5 max          2 x 2 / 2   104 x 104 x  64   ->    52 x  52 x  64\n",
      "    6 conv    128  3 x 3 / 1    52 x  52 x  64   ->    52 x  52 x 128  0.399 BFLOPs\n",
      "    7 max          2 x 2 / 2    52 x  52 x 128   ->    26 x  26 x 128\n",
      "    8 conv    256  3 x 3 / 1    26 x  26 x 128   ->    26 x  26 x 256  0.399 BFLOPs\n",
      "    9 max          2 x 2 / 2    26 x  26 x 256   ->    13 x  13 x 256\n",
      "   10 conv    512  3 x 3 / 1    13 x  13 x 256   ->    13 x  13 x 512  0.399 BFLOPs\n",
      "   11 max          2 x 2 / 1    13 x  13 x 512   ->    13 x  13 x 512\n",
      "   12 conv   1024  3 x 3 / 1    13 x  13 x 512   ->    13 x  13 x1024  1.595 BFLOPs\n",
      "   13 conv    256  1 x 1 / 1    13 x  13 x1024   ->    13 x  13 x 256  0.089 BFLOPs\n",
      "   14 conv    512  3 x 3 / 1    13 x  13 x 256   ->    13 x  13 x 512  0.399 BFLOPs\n",
      "   15 conv     30  1 x 1 / 1    13 x  13 x 512   ->    13 x  13 x  30  0.005 BFLOPs\n",
      "   16 yolo\n",
      "   17 route  13\n",
      "   18 conv    128  1 x 1 / 1    13 x  13 x 256   ->    13 x  13 x 128  0.011 BFLOPs\n",
      "   19 upsample            2x    13 x  13 x 128   ->    26 x  26 x 128\n",
      "   20 route  19 8\n",
      "   21 conv    256  3 x 3 / 1    26 x  26 x 384   ->    26 x  26 x 256  1.196 BFLOPs\n",
      "   22 conv     30  1 x 1 / 1    26 x  26 x 256   ->    26 x  26 x  30  0.010 BFLOPs\n",
      "   23 yolo\n",
      "Loading weights from weights/yolov3-tiny-data_final.weights...Done!\n"
     ]
    }
   ],
   "source": [
    "#Sortie YOLO\n",
    "output = \"predictions_3103\"\n",
    "output_txt = output+'.txt'\n",
    "!./darknet detector test darknet.data yolov3-tiny-data.cfg weights/yolov3-tiny-data_final.weights JPEGImages/IMG_3103.JPG -thresh 0.3 -out $output > $output_txt"
   ]
  },
  {
   "cell_type": "code",
   "execution_count": 21,
   "metadata": {},
   "outputs": [
    {
     "name": "stdout",
     "output_type": "stream",
     "text": [
      "['button: 84%\\n', 'left:1794 right:2069 top:2535 bottom:2809\\n', 'button: 57%\\n', 'left:1966 right:2221 top:1012 bottom:1266\\n', 'paragraph: 75%\\n', 'left:1412 right:2779 top:1510 bottom:2202\\n']\n"
     ]
    }
   ],
   "source": [
    "f = open(output_txt, 'r')\n",
    "lines=f.readlines()[1:] #sans la première ligne qui donne le temps de prédiction"
   ]
  },
  {
   "cell_type": "code",
   "execution_count": 23,
   "metadata": {},
   "outputs": [
    {
     "name": "stdout",
     "output_type": "stream",
     "text": [
      "button: 84%\n",
      "\n",
      "left:1794 right:2069 top:2535 bottom:2809\n",
      "\n",
      "button: 57%\n",
      "\n",
      "left:1966 right:2221 top:1012 bottom:1266\n",
      "\n",
      "paragraph: 75%\n",
      "\n",
      "left:1412 right:2779 top:1510 bottom:2202\n",
      "\n",
      "[1012, 1510, 2535]\n"
     ]
    }
   ],
   "source": [
    "#stockage des classes et des tops (de chaque bbox)\n",
    "classes=[]\n",
    "i=0\n",
    "j=0\n",
    "tops=[]\n",
    "while(i<len(lines)):\n",
    "    print(lines[i])\n",
    "    classe=lines[i].split(':')[0] #On récupère le nom de la classe\n",
    "    classes.append(classe)\n",
    "    print(lines[i+1])\n",
    "    top_part=lines[i+1].split(' ')[2] #On récupère la coordonnée top de la bbox\n",
    "    top=int(top_part.split(':')[1])\n",
    "    tops.append(top)\n",
    "    i=i+2\n",
    "    j=j+1\n",
    "sorted_tops=sorted(tops)\n",
    "print(sorted_tops)"
   ]
  },
  {
   "cell_type": "code",
   "execution_count": 24,
   "metadata": {},
   "outputs": [
    {
     "name": "stdout",
     "output_type": "stream",
     "text": [
      "['button', 'paragraph', 'button']\n"
     ]
    }
   ],
   "source": [
    "# Classe selon l'ordre d'apparition en prédiction (de haut en bas)\n",
    "\n",
    "import numpy as np\n",
    "index=np.argsort(tops) #index de rangement des tops selon ordre croissant\n",
    "\n",
    "sorted_classes=[]\n",
    "for i in range(len(tops)):\n",
    "    sorted_classes.append(classes[index[i]]) #tri des classes selon ordre tops\n",
    "print(sorted_classes)"
   ]
  },
  {
   "cell_type": "code",
   "execution_count": 25,
   "metadata": {},
   "outputs": [],
   "source": [
    "# Correspondance classe en code HTML\n",
    "def classe_to_code(classe): \n",
    "    switcher = { \n",
    "        \"header\": '<header> header </header>',\n",
    "        \"title\": '<h1> title </h1>', \n",
    "        \"textinput\" : 'Name: <input type=\"text\" name=\"fname\"><br>',\n",
    "        \"paragraph\" : '<p> Lorem ipsum dolor sit amet, consectetur adipiscing elit. Maecenas volutpat augue nisi, a dignissim risus iaculis non. Quisque sed rutrum arcu. Duis volutpat gravida odio eu vulputate. Aliquam erat volutpat. Donec quis viverra enim. Proin dolor lectus, sagittis nec quam sit amet, varius scelerisque ante. Cras et dictum nisi.  </p>',\n",
    "        \"button\" :  '<button type=\"button\">button</button>'\n",
    "    } \n",
    "  \n",
    "    # get() method of dictionary data type returns  \n",
    "    # value of passed argument if it is present  \n",
    "    # in dictionary otherwise second argument will \n",
    "    # be assigned as default value of passed argument \n",
    "    return switcher.get(classe, \"default\") "
   ]
  },
  {
   "cell_type": "code",
   "execution_count": 26,
   "metadata": {},
   "outputs": [],
   "source": [
    "#Ecriture dans le fichier HTML\n",
    "file = open(\"FILE.html\", 'w')\n",
    "file.write('<!DOCTYPE html>\\n<html>\\n')\n",
    "file.write('.button {border-radius: 50%;}\\n')\n",
    "for i in range(len(tops)):\n",
    "    code=classe_to_code(classes[index[i]])\n",
    "    file.write(code+'\\n')\n",
    "file.write('</html>')\n",
    "file.close()"
   ]
  },
  {
   "cell_type": "code",
   "execution_count": 28,
   "metadata": {},
   "outputs": [
    {
     "data": {
      "text/plain": [
       "True"
      ]
     },
     "execution_count": 28,
     "metadata": {},
     "output_type": "execute_result"
    }
   ],
   "source": [
    "import os, webbrowser\n",
    "webbrowser.open(\"FILE.html\")"
   ]
  },
  {
   "cell_type": "code",
   "execution_count": null,
   "metadata": {},
   "outputs": [],
   "source": []
  }
 ],
 "metadata": {
  "kernelspec": {
   "display_name": "Python 3",
   "language": "python",
   "name": "python3"
  },
  "language_info": {
   "codemirror_mode": {
    "name": "ipython",
    "version": 3
   },
   "file_extension": ".py",
   "mimetype": "text/x-python",
   "name": "python",
   "nbconvert_exporter": "python",
   "pygments_lexer": "ipython3",
   "version": "3.6.8"
  }
 },
 "nbformat": 4,
 "nbformat_minor": 2
}
