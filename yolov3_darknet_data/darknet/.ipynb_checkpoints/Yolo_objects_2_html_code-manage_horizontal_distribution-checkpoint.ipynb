{
 "cells": [
  {
   "cell_type": "code",
   "execution_count": 1,
   "metadata": {},
   "outputs": [
    {
     "data": {
      "text/plain": [
       "['paragraph', 'textinput', 'button', 'button']"
      ]
     },
     "execution_count": 1,
     "metadata": {},
     "output_type": "execute_result"
    }
   ],
   "source": [
    "import operator\n",
    "def sort_yolo_objs_by_Top(_yolo_objs):\n",
    "    #print(_yolo_objs.values())\n",
    "    sorted_objs=sorted(_yolo_objs.items(), key=operator.itemgetter(0))\n",
    "    #print(sorted_objs)\n",
    "    return [x[1] for x in sorted_objs]\n",
    "    \n",
    "#test sort_yolo_objs_by_Top\n",
    "sort_yolo_objs_by_Top({ 1:'paragraph',  6:'button',4:'textinput' ,7:'button'})"
   ]
  },
  {
   "cell_type": "code",
   "execution_count": 2,
   "metadata": {},
   "outputs": [
    {
     "name": "stdout",
     "output_type": "stream",
     "text": [
      "custom_sort :5\n",
      "1.5\n",
      "5\n",
      "1\n",
      "ordered line by left: [(1.5, {1: 'paragraph'}), (1, {1.5: 'paragraph'}), (1.4, {5: 'textinput'})]\n"
     ]
    }
   ],
   "source": [
    "def custom_sort(t):\n",
    "    return list(t[1].keys())[0]\n",
    "\n",
    "print('custom_sort :' + str(custom_sort((1.4, {5: 'textinput'}))))\n",
    "\n",
    "lines=[(1, {1.5: 'paragraph'}), (1.4, {5: 'textinput'}), (1.5, {1: 'paragraph'})]\n",
    "for val in lines:\n",
    "    print(list(val[1].keys())[0])\n",
    "    \n",
    "lines.sort(key=custom_sort)\n",
    "print(\"ordered line by left: \"+str(lines))"
   ]
  },
  {
   "cell_type": "code",
   "execution_count": 3,
   "metadata": {},
   "outputs": [
    {
     "name": "stdout",
     "output_type": "stream",
     "text": [
      "[['paragraph', 'paragraph', 'textinput'], ['textinput'], ['button']]\n"
     ]
    }
   ],
   "source": [
    "### import operator\n",
    "def group_by_top_margin_then_sort_by_left(_yolo_objs,top_margin):\n",
    "    #print(_yolo_objs.values())\n",
    "    sorted_objs=sorted(_yolo_objs.items(), key=operator.itemgetter(0)) #sorted by left\n",
    "    lines=[]\n",
    "    while(True): #while true until break\n",
    "        line=[] #new line\n",
    "        obj=sorted_objs.pop(0) #assign and remove object of index 0 from list\n",
    "        line.append(obj)\n",
    "        #print('++obj:'+ str(obj))\n",
    "        obj_top=obj[0] #top parameter\n",
    "        #print('obj_top:'+ str(obj_top))\n",
    "        #print('+remaining objects:'+str(sorted_objs))\n",
    "        j=0\n",
    "        while j < len(sorted_objs):\n",
    "            #print('------other_obj top : '+str(sorted_objs[j][0]))\n",
    "            if abs(sorted_objs[j][0]-obj_top)<top_margin: #if same top +/- top_margin\n",
    "                #print('inside while' + str(sorted_objs.pop(j)))\n",
    "                line.append(sorted_objs.pop(j)) #assign and remove object of index j from list\n",
    "                j=0\n",
    "            else:\n",
    "                j=j+1\n",
    "        #print(\"line : \"+str(line))\n",
    "        #sort by left in each line:\n",
    "        line.sort(key=custom_sort)\n",
    "        line=[x[1].popitem()[1] for x in line]\n",
    "        #print(\"ordered line by left: \"+str(line))\n",
    "        lines.append(line)\n",
    "        if not sorted_objs:\n",
    "            break;\n",
    "    return lines\n",
    "    \n",
    "#test sort_yolo_objs_by_Top\n",
    "print(group_by_top_margin_then_sort_by_left({ 1.5:{1:'paragraph'}, 6:{2:'textinput'}, 1:{1.5:'paragraph'} ,1.4:{5:'textinput'} ,7:{4:'button'}},1))"
   ]
  },
  {
   "cell_type": "code",
   "execution_count": 4,
   "metadata": {},
   "outputs": [
    {
     "name": "stdout",
     "output_type": "stream",
     "text": [
      "<input type=\"text\" class=\"form-control\" style=\"margin-top: 10px;\" placeholder=\"text\">\n"
     ]
    }
   ],
   "source": [
    "def build_html_from_obj(_type):\n",
    "    if _type == 'header':\n",
    "        return '<h1 style=\"text-align:center;\">HEADER</h1>'\n",
    "    elif _type == 'title':\n",
    "        return '<h1 style=\"text-align:center;\">TITLE</h1>'\n",
    "    elif _type == 'paragraph':\n",
    "        return '<p style=\"margin-top: 10px;\">Lorem ipsum dolor sit amet, consectetur adipiscing elit, sed do eiusmod tempor incididunt ut labore et dolore magna aliqua. Ut enim ad minim veniam, quis nostrud exercitation ullamco laboris nisi ut aliquip ex ea commodo consequat. Duis aute irure dolor in reprehenderit in voluptate velit esse cillum dolore eu fugiat nulla pariatur. Excepteur sint occaecat cupidatat non proident, sunt in culpa qui officia deserunt mollit anim id est laborum.</p>'\n",
    "    elif _type == 'textinput':\n",
    "        return '<input type=\"text\" class=\"form-control\" style=\"margin-top: 10px;\" placeholder=\"text\">'\n",
    "    elif _type == 'button':\n",
    "        return '<button type=\"button\" class=\"btn btn-primary\" style=\"margin-top: 10px;\">Button</button>'\n",
    "    else:\n",
    "        raise ValueError('non handled object type:<' + _type +'>'  )\n",
    "\n",
    "#test build_html_from_obj function    \n",
    "print(build_html_from_obj('textinput'))\n",
    "        "
   ]
  },
  {
   "cell_type": "code",
   "execution_count": 5,
   "metadata": {
    "scrolled": true
   },
   "outputs": [
    {
     "name": "stdout",
     "output_type": "stream",
     "text": [
      "col_width =3.0\n",
      "<html>\n",
      " <head>\n",
      " </head>\n",
      " <body>\n",
      "  <div align=\"center\" class=\"row\">\n",
      "   <div class=\"col-md-3.0\">\n",
      "    <h1 style=\"text-align:center;\">\n",
      "     HEADER\n",
      "    </h1>\n",
      "   </div>\n",
      "   <div class=\"col-md-3.0\">\n",
      "    <h1 style=\"text-align:center;\">\n",
      "     TITLE\n",
      "    </h1>\n",
      "   </div>\n",
      "   <div class=\"col-md-3.0\">\n",
      "    <input class=\"form-control\" placeholder=\"text\" style=\"margin-top: 10px;\" type=\"text\"/>\n",
      "   </div>\n",
      "   <div class=\"col-md-3.0\">\n",
      "    <p style=\"margin-top: 10px;\">\n",
      "     Lorem ipsum dolor sit amet, consectetur adipiscing elit, sed do eiusmod tempor incididunt ut labore et dolore magna aliqua. Ut enim ad minim veniam, quis nostrud exercitation ullamco laboris nisi ut aliquip ex ea commodo consequat. Duis aute irure dolor in reprehenderit in voluptate velit esse cillum dolore eu fugiat nulla pariatur. Excepteur sint occaecat cupidatat non proident, sunt in culpa qui officia deserunt mollit anim id est laborum.\n",
      "    </p>\n",
      "   </div>\n",
      "  </div>\n",
      " </body>\n",
      "</html>\n"
     ]
    }
   ],
   "source": [
    "from bs4 import BeautifulSoup as bs\n",
    "def yolo_objects_2_code_factory(yolo_objects):\n",
    "    #sorted_objs=sort_yolo_objs_by_Top(yolo_objects)\n",
    "    html_code='<div class=\"row\" align=\"center\">'\n",
    "    col_width=12/len(yolo_objects)\n",
    "    print('col_width ='+str(col_width))\n",
    "    for obj in yolo_objects:\n",
    "        #print(obj)\n",
    "        html_code=html_code+'<div class=\\\"col-md-'+str(col_width)+'\\\">'+build_html_from_obj(obj)+'</div>'\n",
    "    html_code=html_code+'</div>'\n",
    "    return bs(html_code).prettify()\n",
    "#test objects_2_code_factory  \n",
    "print(yolo_objects_2_code_factory(['header','title', 'textinput', 'paragraph']))"
   ]
  },
  {
   "cell_type": "code",
   "execution_count": 6,
   "metadata": {
    "scrolled": false
   },
   "outputs": [
    {
     "name": "stdout",
     "output_type": "stream",
     "text": [
      "col_width =1.7142857142857142\n",
      "col_width =6.0\n",
      "col_width =12.0\n",
      "<html>\n",
      " <head>\n",
      "  <title>\n",
      "   Page Generated from Computer Vision\n",
      "  </title>\n",
      "  <meta charset=\"utf-8\"/>\n",
      "  <meta content=\"width=device-width, initial-scale=1\" name=\"viewport\"/>\n",
      "  <link href=\"https://maxcdn.bootstrapcdn.com/bootstrap/3.4.0/css/bootstrap.min.css\" rel=\"stylesheet\"/>\n",
      "  <script src=\"https://ajax.googleapis.com/ajax/libs/jquery/3.4.1/jquery.min.js\">\n",
      "  </script>\n",
      "  <script src=\"https://maxcdn.bootstrapcdn.com/bootstrap/3.4.0/js/bootstrap.min.js\">\n",
      "  </script>\n",
      " </head>\n",
      " <body>\n",
      "  <div class=\"container\">\n",
      "   <div align=\"center\" class=\"row\">\n",
      "    <div class=\"col-md-1.7142857142857142\">\n",
      "     <p style=\"margin-top: 10px;\">\n",
      "      Lorem ipsum dolor sit amet, consectetur adipiscing elit, sed do eiusmod tempor incididunt ut labore et dolore magna aliqua. Ut enim ad minim veniam, quis nostrud exercitation ullamco laboris nisi ut aliquip ex ea commodo consequat. Duis aute irure dolor in reprehenderit in voluptate velit esse cillum dolore eu fugiat nulla pariatur. Excepteur sint occaecat cupidatat non proident, sunt in culpa qui officia deserunt mollit anim id est laborum.\n",
      "     </p>\n",
      "    </div>\n",
      "    <div class=\"col-md-1.7142857142857142\">\n",
      "     <p style=\"margin-top: 10px;\">\n",
      "      Lorem ipsum dolor sit amet, consectetur adipiscing elit, sed do eiusmod tempor incididunt ut labore et dolore magna aliqua. Ut enim ad minim veniam, quis nostrud exercitation ullamco laboris nisi ut aliquip ex ea commodo consequat. Duis aute irure dolor in reprehenderit in voluptate velit esse cillum dolore eu fugiat nulla pariatur. Excepteur sint occaecat cupidatat non proident, sunt in culpa qui officia deserunt mollit anim id est laborum.\n",
      "     </p>\n",
      "    </div>\n",
      "    <div class=\"col-md-1.7142857142857142\">\n",
      "     <p style=\"margin-top: 10px;\">\n",
      "      Lorem ipsum dolor sit amet, consectetur adipiscing elit, sed do eiusmod tempor incididunt ut labore et dolore magna aliqua. Ut enim ad minim veniam, quis nostrud exercitation ullamco laboris nisi ut aliquip ex ea commodo consequat. Duis aute irure dolor in reprehenderit in voluptate velit esse cillum dolore eu fugiat nulla pariatur. Excepteur sint occaecat cupidatat non proident, sunt in culpa qui officia deserunt mollit anim id est laborum.\n",
      "     </p>\n",
      "    </div>\n",
      "    <div class=\"col-md-1.7142857142857142\">\n",
      "     <p style=\"margin-top: 10px;\">\n",
      "      Lorem ipsum dolor sit amet, consectetur adipiscing elit, sed do eiusmod tempor incididunt ut labore et dolore magna aliqua. Ut enim ad minim veniam, quis nostrud exercitation ullamco laboris nisi ut aliquip ex ea commodo consequat. Duis aute irure dolor in reprehenderit in voluptate velit esse cillum dolore eu fugiat nulla pariatur. Excepteur sint occaecat cupidatat non proident, sunt in culpa qui officia deserunt mollit anim id est laborum.\n",
      "     </p>\n",
      "    </div>\n",
      "    <div class=\"col-md-1.7142857142857142\">\n",
      "     <p style=\"margin-top: 10px;\">\n",
      "      Lorem ipsum dolor sit amet, consectetur adipiscing elit, sed do eiusmod tempor incididunt ut labore et dolore magna aliqua. Ut enim ad minim veniam, quis nostrud exercitation ullamco laboris nisi ut aliquip ex ea commodo consequat. Duis aute irure dolor in reprehenderit in voluptate velit esse cillum dolore eu fugiat nulla pariatur. Excepteur sint occaecat cupidatat non proident, sunt in culpa qui officia deserunt mollit anim id est laborum.\n",
      "     </p>\n",
      "    </div>\n",
      "    <div class=\"col-md-1.7142857142857142\">\n",
      "     <input class=\"form-control\" placeholder=\"text\" style=\"margin-top: 10px;\" type=\"text\"/>\n",
      "    </div>\n",
      "    <div class=\"col-md-1.7142857142857142\">\n",
      "     <p style=\"margin-top: 10px;\">\n",
      "      Lorem ipsum dolor sit amet, consectetur adipiscing elit, sed do eiusmod tempor incididunt ut labore et dolore magna aliqua. Ut enim ad minim veniam, quis nostrud exercitation ullamco laboris nisi ut aliquip ex ea commodo consequat. Duis aute irure dolor in reprehenderit in voluptate velit esse cillum dolore eu fugiat nulla pariatur. Excepteur sint occaecat cupidatat non proident, sunt in culpa qui officia deserunt mollit anim id est laborum.\n",
      "     </p>\n",
      "    </div>\n",
      "   </div>\n",
      "   <div align=\"center\" class=\"row\">\n",
      "    <div class=\"col-md-6.0\">\n",
      "     <input class=\"form-control\" placeholder=\"text\" style=\"margin-top: 10px;\" type=\"text\"/>\n",
      "    </div>\n",
      "    <div class=\"col-md-6.0\">\n",
      "     <input class=\"form-control\" placeholder=\"text\" style=\"margin-top: 10px;\" type=\"text\"/>\n",
      "    </div>\n",
      "   </div>\n",
      "   <div align=\"center\" class=\"row\">\n",
      "    <div class=\"col-md-12.0\">\n",
      "     <button class=\"btn btn-primary\" style=\"margin-top: 10px;\" type=\"button\">\n",
      "      Button\n",
      "     </button>\n",
      "    </div>\n",
      "   </div>\n",
      "  </div>\n",
      " </body>\n",
      "</html>\n"
     ]
    }
   ],
   "source": [
    "from bs4 import BeautifulSoup as bs\n",
    "def yolo_objects_2_code_factory_2D(yolo_objects,top_aggregation_margin):\n",
    "    #sorted_objs_2d has the form :[[(1.5, {1: 'paragraph'}), (1, {1.5: 'paragraph'}), (1.4, {5: 'textinput'})], [(6, {2: 'textinput'})], [(7, {4: 'button'})]]\n",
    "    sorted_objs_2d=group_by_top_margin_then_sort_by_left(yolo_objects,top_aggregation_margin)\n",
    "    html_code='<head> <title>Page Generated from Computer Vision</title> <meta charset=\"utf-8\"> <meta name=\"viewport\" content=\"width=device-width, initial-scale=1\"> <link rel=\"stylesheet\" href=\"https://maxcdn.bootstrapcdn.com/bootstrap/3.4.0/css/bootstrap.min.css\"> <script src=\"https://ajax.googleapis.com/ajax/libs/jquery/3.4.1/jquery.min.js\"></script> <script src=\"https://maxcdn.bootstrapcdn.com/bootstrap/3.4.0/js/bootstrap.min.js\"></script> </head><body><div class=\"container\">'\n",
    "    for obj in sorted_objs_2d:\n",
    "        #print(str(obj))\n",
    "        html_code=html_code+yolo_objects_2_code_factory(obj)\n",
    "    html_code=html_code+'</div></body></html>'\n",
    "    return bs(html_code).prettify()\n",
    "#test objects_2_code_factory  \n",
    "print(yolo_objects_2_code_factory_2D({1.65:{1.94:'paragraph'},1.75:{1.36:'paragraph'},1.5:{1:'paragraph'}, 1.45:{1.35:'paragraph'},1.85:{1.345:'paragraph'} ,6:{2:'textinput'},6.4:{2:'textinput'}, 1:{3:'paragraph'} ,1.4:{2:'textinput'} ,7:{4:'button'}},1))"
   ]
  },
  {
   "cell_type": "code",
   "execution_count": 7,
   "metadata": {},
   "outputs": [
    {
     "name": "stdout",
     "output_type": "stream",
     "text": [
      "button: 88%\n",
      "\n",
      "button: 81%\n",
      "\n",
      "paragraph: 98%\n",
      "\n",
      "textinput: 53%\n",
      "\n",
      "header: 53%\n",
      "\n"
     ]
    },
    {
     "data": {
      "text/plain": [
       "{229: {1522: 'header'},\n",
       " 872: {1564: 'button'},\n",
       " 1267: {1599: 'paragraph'},\n",
       " 2006: {2325: 'button'},\n",
       " 2381: {1500: 'textinput'}}"
      ]
     },
     "execution_count": 7,
     "metadata": {},
     "output_type": "execute_result"
    }
   ],
   "source": [
    "def read_objects_in_2D_from_yolo_file(yolo_obs_file):\n",
    "    myfile = open(yolo_obs_file)\n",
    "    next(myfile)# to skip the first line\n",
    "    yolo_detected_objs={}\n",
    "    for line in myfile:\n",
    "        print(line)\n",
    "        _type=line.split(':')[0]\n",
    "        #_top=int(next(myfile).split(' ')[2].split(':')[1])\n",
    "        next_line=next(myfile)\n",
    "        coordinates=next_line.split(' ')\n",
    "        _top=int(coordinates[2].split(':')[1])\n",
    "        _left=int(coordinates[0].split(':')[1])\n",
    "        yolo_detected_objs[_top]={_left:_type}\n",
    "    myfile.close()\n",
    "    return yolo_detected_objs\n",
    "\n",
    "#test read_objects_from_yolo_file\n",
    "read_objects_in_2D_from_yolo_file('Yolo_files/predictions_3457.txt')"
   ]
  },
  {
   "cell_type": "code",
   "execution_count": 8,
   "metadata": {},
   "outputs": [
    {
     "name": "stdout",
     "output_type": "stream",
     "text": [
      "button: 88%\n",
      "\n",
      "button: 81%\n",
      "\n",
      "paragraph: 98%\n",
      "\n",
      "textinput: 53%\n",
      "\n",
      "header: 53%\n",
      "\n",
      "col_width =12.0\n",
      "col_width =12.0\n",
      "col_width =12.0\n",
      "col_width =12.0\n",
      "col_width =12.0\n",
      "<html>\n",
      " <head>\n",
      "  <title>\n",
      "   Page Generated from Computer Vision\n",
      "  </title>\n",
      "  <meta charset=\"utf-8\"/>\n",
      "  <meta content=\"width=device-width, initial-scale=1\" name=\"viewport\"/>\n",
      "  <link href=\"https://maxcdn.bootstrapcdn.com/bootstrap/3.4.0/css/bootstrap.min.css\" rel=\"stylesheet\"/>\n",
      "  <script src=\"https://ajax.googleapis.com/ajax/libs/jquery/3.4.1/jquery.min.js\">\n",
      "  </script>\n",
      "  <script src=\"https://maxcdn.bootstrapcdn.com/bootstrap/3.4.0/js/bootstrap.min.js\">\n",
      "  </script>\n",
      " </head>\n",
      " <body>\n",
      "  <div class=\"container\">\n",
      "   <div align=\"center\" class=\"row\">\n",
      "    <div class=\"col-md-12.0\">\n",
      "     <h1 style=\"text-align:center;\">\n",
      "      HEADER\n",
      "     </h1>\n",
      "    </div>\n",
      "   </div>\n",
      "   <div align=\"center\" class=\"row\">\n",
      "    <div class=\"col-md-12.0\">\n",
      "     <button class=\"btn btn-primary\" style=\"margin-top: 10px;\" type=\"button\">\n",
      "      Button\n",
      "     </button>\n",
      "    </div>\n",
      "   </div>\n",
      "   <div align=\"center\" class=\"row\">\n",
      "    <div class=\"col-md-12.0\">\n",
      "     <p style=\"margin-top: 10px;\">\n",
      "      Lorem ipsum dolor sit amet, consectetur adipiscing elit, sed do eiusmod tempor incididunt ut labore et dolore magna aliqua. Ut enim ad minim veniam, quis nostrud exercitation ullamco laboris nisi ut aliquip ex ea commodo consequat. Duis aute irure dolor in reprehenderit in voluptate velit esse cillum dolore eu fugiat nulla pariatur. Excepteur sint occaecat cupidatat non proident, sunt in culpa qui officia deserunt mollit anim id est laborum.\n",
      "     </p>\n",
      "    </div>\n",
      "   </div>\n",
      "   <div align=\"center\" class=\"row\">\n",
      "    <div class=\"col-md-12.0\">\n",
      "     <button class=\"btn btn-primary\" style=\"margin-top: 10px;\" type=\"button\">\n",
      "      Button\n",
      "     </button>\n",
      "    </div>\n",
      "   </div>\n",
      "   <div align=\"center\" class=\"row\">\n",
      "    <div class=\"col-md-12.0\">\n",
      "     <input class=\"form-control\" placeholder=\"text\" style=\"margin-top: 10px;\" type=\"text\"/>\n",
      "    </div>\n",
      "   </div>\n",
      "  </div>\n",
      " </body>\n",
      "</html>\n"
     ]
    }
   ],
   "source": [
    "print(yolo_objects_2_code_factory_2D(read_objects_in_2D_from_yolo_file('Yolo_files/predictions_3457.txt'),300))"
   ]
  },
  {
   "cell_type": "code",
   "execution_count": 9,
   "metadata": {},
   "outputs": [
    {
     "name": "stdout",
     "output_type": "stream",
     "text": [
      "button: 88%\n",
      "\n",
      "button: 81%\n",
      "\n",
      "paragraph: 98%\n",
      "\n",
      "textinput: 53%\n",
      "\n",
      "header: 53%\n",
      "\n",
      "col_width =12.0\n",
      "col_width =12.0\n",
      "col_width =12.0\n",
      "col_width =12.0\n",
      "col_width =12.0\n"
     ]
    }
   ],
   "source": [
    "def write_html_code_from_yolo_prediction(html_page_path,yolo_prediction_file,top_aggregation_margin):\n",
    "    f = open(html_page_path,'w')\n",
    "    #2844,3103,3156\n",
    "    f.write(yolo_objects_2_code_factory_2D(read_objects_in_2D_from_yolo_file(yolo_prediction_file),top_aggregation_margin))\n",
    "    f.close()\n",
    "    #install browsify in your PC:  npm install -g browser-sync, then start a node server :browser-sync start --server -w index.html\n",
    "    \n",
    "#test write_html_code_from_yolo_prediction \n",
    "write_html_code_from_yolo_prediction('Yolo_output_code/index.html', 'Yolo_files/predictions_3457.txt',300)"
   ]
  },
  {
   "cell_type": "code",
   "execution_count": 10,
   "metadata": {
    "scrolled": true
   },
   "outputs": [
    {
     "data": {
      "text/plain": [
       "''"
      ]
     },
     "execution_count": 10,
     "metadata": {},
     "output_type": "execute_result"
    }
   ],
   "source": [
    "import glob\n",
    "import os\n",
    "def get_last_prediction_file(yolo_prediction_folder):\n",
    "    if(not glob.glob(yolo_prediction_folder)):\n",
    "        return ''\n",
    "    list_of_files = glob.glob(yolo_prediction_folder)\n",
    "    latest_file = max(list_of_files, key=os.path.getmtime)\n",
    "    return latest_file\n",
    "\n",
    "#test get_last_prediction_file on folder 'yolo_predictions/*'\n",
    "get_last_prediction_file('yolo/yolo_predictions/*')"
   ]
  },
  {
   "cell_type": "code",
   "execution_count": 11,
   "metadata": {},
   "outputs": [
    {
     "ename": "KeyboardInterrupt",
     "evalue": "",
     "output_type": "error",
     "traceback": [
      "\u001b[0;31m---------------------------------------------------------------------------\u001b[0m",
      "\u001b[0;31mKeyboardInterrupt\u001b[0m                         Traceback (most recent call last)",
      "\u001b[0;32m<ipython-input-11-f6230f90854e>\u001b[0m in \u001b[0;36m<module>\u001b[0;34m()\u001b[0m\n\u001b[1;32m     12\u001b[0m \u001b[0;34m\u001b[0m\u001b[0m\n\u001b[1;32m     13\u001b[0m \u001b[0;34m\u001b[0m\u001b[0m\n\u001b[0;32m---> 14\u001b[0;31m \u001b[0mrewrite_html_each\u001b[0m\u001b[0;34m(\u001b[0m\u001b[0;36m1\u001b[0m\u001b[0;34m)\u001b[0m\u001b[0;34m\u001b[0m\u001b[0;34m\u001b[0m\u001b[0m\n\u001b[0m",
      "\u001b[0;32m<ipython-input-11-f6230f90854e>\u001b[0m in \u001b[0;36mrewrite_html_each\u001b[0;34m(sec)\u001b[0m\n\u001b[1;32m      8\u001b[0m             \u001b[0mprint\u001b[0m\u001b[0;34m(\u001b[0m\u001b[0;34m'already_handled_file:'\u001b[0m\u001b[0;34m+\u001b[0m \u001b[0mstr\u001b[0m\u001b[0;34m(\u001b[0m\u001b[0malready_handled_file\u001b[0m\u001b[0;34m)\u001b[0m\u001b[0;34m)\u001b[0m\u001b[0;34m\u001b[0m\u001b[0;34m\u001b[0m\u001b[0m\n\u001b[1;32m      9\u001b[0m             \u001b[0mwrite_html_code_from_yolo_prediction\u001b[0m\u001b[0;34m(\u001b[0m\u001b[0;34m'C:/Yolo_output_code/index.html'\u001b[0m\u001b[0;34m,\u001b[0m\u001b[0mlast_prediction_intime\u001b[0m\u001b[0;34m,\u001b[0m\u001b[0mtop_aggregation_margin\u001b[0m\u001b[0;34m)\u001b[0m\u001b[0;34m\u001b[0m\u001b[0;34m\u001b[0m\u001b[0m\n\u001b[0;32m---> 10\u001b[0;31m         \u001b[0mtime\u001b[0m\u001b[0;34m.\u001b[0m\u001b[0msleep\u001b[0m\u001b[0;34m(\u001b[0m\u001b[0msec\u001b[0m\u001b[0;34m)\u001b[0m\u001b[0;34m\u001b[0m\u001b[0;34m\u001b[0m\u001b[0m\n\u001b[0m\u001b[1;32m     11\u001b[0m         \u001b[0malready_handled_file\u001b[0m\u001b[0;34m=\u001b[0m\u001b[0mlast_prediction_intime\u001b[0m\u001b[0;34m\u001b[0m\u001b[0;34m\u001b[0m\u001b[0m\n\u001b[1;32m     12\u001b[0m \u001b[0;34m\u001b[0m\u001b[0m\n",
      "\u001b[0;31mKeyboardInterrupt\u001b[0m: "
     ]
    }
   ],
   "source": [
    "import time\n",
    "top_aggregation_margin=300\n",
    "def rewrite_html_each(sec):\n",
    "    already_handled_file=None\n",
    "    while True:\n",
    "        last_prediction_intime=get_last_prediction_file('C:/yolo/yolo_predictions/*')\n",
    "        if(last_prediction_intime !='' and last_prediction_intime!=already_handled_file):\n",
    "            print('already_handled_file:'+ str(already_handled_file))\n",
    "            write_html_code_from_yolo_prediction('C:/Yolo_output_code/index.html',last_prediction_intime,top_aggregation_margin)\n",
    "        time.sleep(sec)\n",
    "        already_handled_file=last_prediction_intime\n",
    "        \n",
    "\n",
    "rewrite_html_each(1)"
   ]
  },
  {
   "cell_type": "code",
   "execution_count": null,
   "metadata": {},
   "outputs": [],
   "source": []
  },
  {
   "cell_type": "code",
   "execution_count": null,
   "metadata": {},
   "outputs": [],
   "source": []
  }
 ],
 "metadata": {
  "kernelspec": {
   "display_name": "Python 3",
   "language": "python",
   "name": "python3"
  },
  "language_info": {
   "codemirror_mode": {
    "name": "ipython",
    "version": 3
   },
   "file_extension": ".py",
   "mimetype": "text/x-python",
   "name": "python",
   "nbconvert_exporter": "python",
   "pygments_lexer": "ipython3",
   "version": "3.6.8"
  }
 },
 "nbformat": 4,
 "nbformat_minor": 2
}
