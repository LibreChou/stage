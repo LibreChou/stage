{
 "cells": [
  {
   "cell_type": "code",
   "execution_count": null,
   "metadata": {},
   "outputs": [],
   "source": [
    "#https://www.pyimagesearch.com/2017/01/02/rotate-images-correctly-with-opencv-and-python/\n",
    "import imutils\n",
    "import cv2\n",
    "import numpy as np\n",
    "import os\n",
    "from os import listdir\n",
    "from os.path import isfile,join\n",
    "from shutil import copyfile\n",
    "from pathlib import Path\n",
    "from scipy import ndimage\n",
    "from tqdm import tqdm_notebook as tqdm\n",
    "\n",
    "\n",
    "from data_aug.data_aug import *\n",
    "from data_aug.bbox_util import *\n",
    "import numpy as np \n",
    "import cv2 \n",
    "import matplotlib.pyplot as plt \n",
    "import pickle as pkl\n",
    "%matplotlib inline\n",
    "\n",
    "#Create automatically the final directory\n",
    "final_directory=Path(\"augmentation\").mkdir(parents=True, exist_ok=True)\n",
    "image_dir = \"./JPEGImages\"\n",
    "namelist=[]  \n",
    "\n",
    "#All image files in a list called namelist\n",
    "\n",
    "for files in os.listdir(image_dir):\n",
    "  if files.endswith((\".jpg\")) or files.endswith((\".JPG\")):\n",
    "    namelist.append(files)"
   ]
  },
  {
   "cell_type": "code",
   "execution_count": null,
   "metadata": {},
   "outputs": [],
   "source": [
    "imagepath=namelist[5]\n",
    "img=cv2.imread('JPEGImages/'+imagepath)[:,:,::-1] \n",
    "plt.imshow(img)\n",
    "plt.show()"
   ]
  },
  {
   "cell_type": "code",
   "execution_count": null,
   "metadata": {},
   "outputs": [],
   "source": [
    "def read_bboxes(imagepath,labels_file):\n",
    "    img=cv2.imread(imagepath)[:,:,::-1] \n",
    "    path=imagepath.split(\".JPG\")[0] #remove .JPG from the name\n",
    "    path=path.split(\".jpg\")[0] #remove .jpg from the name\n",
    "    name = path.split(\"/\")[1]\n",
    "    h,w,ch = img.shape\n",
    "    bboxes=[]\n",
    "    f= open(labels_file+\"/\"+name+\".txt\",\"r+\")\n",
    "    lines = f.readlines()\n",
    "    for line in lines:\n",
    "        line=line.strip('\\n') #On retire le \\n à la fin\n",
    "        line=line.split(' ')  #On découpe la ligne à chaque espace\n",
    "        center_x = float(line[1])*w\n",
    "        center_y = float(line[2])*h\n",
    "        width = float(line[3])*w\n",
    "        height = float(line[4])*h\n",
    "        left = int(center_x - width /2)\n",
    "        top =  int (center_y - height/2)\n",
    "        right = left+width\n",
    "        bottom = top+height\n",
    "        classe = float(line[0])\n",
    "        bboxes.append([left, top, right, bottom, classe])\n",
    "    bboxes=np.array(bboxes)\n",
    "    return bboxes\n",
    "\n",
    "bboxes=read_bboxes(\"JPEGImages/IMG_3063.JPG\",\"labels\")\n",
    "print(bboxes)"
   ]
  },
  {
   "cell_type": "code",
   "execution_count": null,
   "metadata": {},
   "outputs": [],
   "source": [
    "def show_bboxes(imagepath,bboxes):\n",
    "    img=cv2.imread(imagepath)[:,:,::-1] \n",
    "    plotted_img = draw_rect(img, bboxes)\n",
    "    plt.imshow(plotted_img)\n",
    "    plt.show()\n",
    "    return \n",
    "\n",
    "show_bboxes(\"JPEGImages/IMG_3063.JPG\",bboxes)"
   ]
  },
  {
   "cell_type": "code",
   "execution_count": null,
   "metadata": {},
   "outputs": [],
   "source": [
    "def convert_to_write(bboxes,file):\n",
    "    for line in bboxes_:\n",
    "        classe = int(line[4])\n",
    "        bboxList3=(line[2]-line[0])/w\n",
    "        bboxList4=(line[3]-line[1])/h\n",
    "        bboxList1=(line[0]+bboxList3*w/2)/w\n",
    "        bboxList2=(line[1]+bboxList4*h/2)/h\n",
    "        print(str(classe)+' '+str(bboxList1)+' '+str(bboxList2)+' '+str(bboxList3)+' '+str(bboxList4), file=file, end=\"\\n\")\n",
    "        return"
   ]
  },
  {
   "cell_type": "code",
   "execution_count": null,
   "metadata": {},
   "outputs": [],
   "source": [
    "import random\n",
    "#rotation\n",
    "i=0\n",
    "while i<len(namelist):\n",
    "    imagepath=\"JPEGImages/\"+namelist[i]\n",
    "    img=cv2.imread(imagepath)[:,:,::-1] \n",
    "    name = imagepath.split(\".\")[0].split(\"JPEGImages/\")[1] #remove .jpg or .png from the name\n",
    "    h,w,ch = img.shape\n",
    "    bboxes=read_bboxes(imagepath,\"labels\")\n",
    "    i+=1\n",
    "    for angle in np.arange(-2,2+1,2):\n",
    "        #scale\n",
    "        for scale in np.round(np.arange(-0.2,0.2+0.1,0.2),1): \n",
    "            #shear\n",
    "            for shear in np.round(np.arange(-0.2,0.2+0.1,0.2),2):\n",
    "            #translation\n",
    "                #for translation_x in np.round(np.arange(0.01,0.05+0.01,0.05),2):\n",
    "                 #   for translation_y in np.round(np.arange(0.01,0.05+0.05,0.05),2):\n",
    "                flipped = random.uniform(0,1) < 0.5\n",
    "                if flipped:\n",
    "                    seq = Sequence([Rotate(angle),Shear(shear), HorizontalFlip()])#, Translate(translation_x,translation_y)])\n",
    "                else:\n",
    "                    seq = Sequence([Rotate(angle),Shear(shear)])#, Translate(translation_x,translation_y)])\n",
    "                img_, bboxes_ = seq(img.copy(), bboxes.copy())\n",
    "                cv2.imwrite(\"augmentation/%s_%d_x%.2f_%.2f(%d).jpg\" % (name,angle,scale,shear, int(flipped)), img_) #,translation_x,translation_y #+(%.2f,%.2f)\n",
    "                file = open(\"augmentation/%s_%d_x%.2f_%.2f(%d).txt\" % (name,angle,scale,shear, int(flipped)), \"w\") #,translation_x,translation_y #+(%.2f,%.2f)\n",
    "                convert_to_write(bboxes_,file)\n",
    "                file.close()"
   ]
  },
  {
   "cell_type": "code",
   "execution_count": null,
   "metadata": {},
   "outputs": [],
   "source": [
    "#to flip those which were not transformed and removing them\n",
    "totransform=[]\n",
    "for file in os.listdir(\"augmentation\"):\n",
    "    if file.endswith((\"0_x0.00_0.00(0).jpg\")):\n",
    "        totransform.append(file)\n",
    "        \n",
    "i=0\n",
    "while i<len(totransform):\n",
    "    imagepath=\"augmentation/\"+totransform[i]\n",
    "    img=cv2.imread(imagepath)[:,:,::-1] \n",
    "    name = totransform[i].split(\".\")[0] #remove .jpg or .png from the name\n",
    "    h,w,ch = img.shape\n",
    "    bboxes=read_bboxes(imagepath.split(\".jpg\")[0],\"augmentation\")\n",
    "    seq = Sequence([HorizontalFlip()])#, Translate(translation_x,translation_y)])\n",
    "    img_, bboxes_ = seq(img.copy(), bboxes.copy())\n",
    "    newname=\"augmentation/\"+totransform[i].split(\"(0).jpg\")[0]+\"(1)\"\n",
    "    cv2.imwrite(newname+\".jpg\", img_) #,translation_x,translation_y #+(%.2f,%.2f)\n",
    "    file = open(newname+\".txt\", \"w\") #,translation_x,translation_y #+(%.2f,%.2f)\n",
    "    convert_to_write(bboxes_,file)\n",
    "    file.close()\n",
    "    toremovejpg=\"augmentation/\"+totransform[i].split(\"(\")[0]+\"\\(0\\).jpg\"\n",
    "    toremovetxt=\"augmentation/\"+totransform[i].split(\"(\")[0]+\"\\(0\\).txt\"\n",
    "    #print(toremovejpg)\n",
    "    !rm $toremovejpg\n",
    "    !rm $toremovetxt\n",
    "    i+=1\n",
    "    #print(newname)"
   ]
  },
  {
   "cell_type": "code",
   "execution_count": null,
   "metadata": {},
   "outputs": [],
   "source": [
    "#moving jpg files to 'JPEGImages' folder and txt files to 'labels' folder\n",
    "for file in os.listdir(\"augmentation\"):\n",
    "    file=file.replace(\"(\", \"\\(\").replace(\")\",\"\\)\")\n",
    "    if file.endswith(\".jpg\"):\n",
    "        !mv augmentation/$file JPEGImages/$file\n",
    "    if file.endswith(\".txt\"):\n",
    "        !mv augmentation/$file labels/$file"
   ]
  },
  {
   "cell_type": "code",
   "execution_count": null,
   "metadata": {},
   "outputs": [],
   "source": [
    "#All new image files in a list\n",
    "\n",
    "file = open(\"list_augmentation\",'w')\n",
    "for image in os.listdir(image_dir):\n",
    "    if image.endswith((\".jpg\")):\n",
    "        namelist.append(file)\n",
    "        print(\"JPEGImages/\"+image, file=file, end=\"\\n\")\n",
    "file.close()  \n",
    "\n",
    "#Then we could add list_augmentation to data_train.txt"
   ]
  },
  {
   "cell_type": "code",
   "execution_count": null,
   "metadata": {},
   "outputs": [],
   "source": [
    "#testing bboxes on augmented image \n",
    "bboxes=read_bboxes(\"JPEGImages/IMG_2648_2_x0.20_-0.20(1).jpg\",\"labels\")\n",
    "show_bboxes(\"JPEGImages/IMG_2648_2_x0.20_-0.20(1).jpg\",bboxes)"
   ]
  },
  {
   "cell_type": "code",
   "execution_count": null,
   "metadata": {},
   "outputs": [],
   "source": []
  }
 ],
 "metadata": {
  "kernelspec": {
   "display_name": "Python 3",
   "language": "python",
   "name": "python3"
  },
  "language_info": {
   "codemirror_mode": {
    "name": "ipython",
    "version": 3
   },
   "file_extension": ".py",
   "mimetype": "text/x-python",
   "name": "python",
   "nbconvert_exporter": "python",
   "pygments_lexer": "ipython3",
   "version": "3.6.8"
  }
 },
 "nbformat": 4,
 "nbformat_minor": 2
}
