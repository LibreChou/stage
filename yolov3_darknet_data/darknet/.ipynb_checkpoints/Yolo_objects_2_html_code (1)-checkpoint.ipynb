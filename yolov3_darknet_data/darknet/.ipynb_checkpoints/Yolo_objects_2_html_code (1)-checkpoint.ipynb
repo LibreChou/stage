{
 "cells": [
  {
   "cell_type": "code",
   "execution_count": 1,
   "metadata": {},
   "outputs": [
    {
     "name": "stdout",
     "output_type": "stream",
     "text": [
      "rm: impossible de supprimer 'img/*': Aucun fichier ou dossier de ce type\r\n"
     ]
    }
   ],
   "source": [
    "!rm img/*\n",
    "!rm yolo_predictions/*"
   ]
  },
  {
   "cell_type": "code",
   "execution_count": 2,
   "metadata": {},
   "outputs": [
    {
     "data": {
      "text/plain": [
       "['paragraph', 'textinput', 'button', 'button']"
      ]
     },
     "execution_count": 2,
     "metadata": {},
     "output_type": "execute_result"
    }
   ],
   "source": [
    "import operator\n",
    "def sort_yolo_objs_by_Top(_yolo_objs):\n",
    "    #print(_yolo_objs.values())\n",
    "    sorted_objs=sorted(_yolo_objs.items(), key=operator.itemgetter(0))\n",
    "    #print(sorted_objs)\n",
    "    return [x[1] for x in sorted_objs]\n",
    "    \n",
    "#test sort_yolo_objs_by_Top\n",
    "sort_yolo_objs_by_Top({ 1:'paragraph',  6:'button',4:'textinput' ,7:'button'})"
   ]
  },
  {
   "cell_type": "code",
   "execution_count": 3,
   "metadata": {},
   "outputs": [
    {
     "name": "stdout",
     "output_type": "stream",
     "text": [
      "<input type=\"text\" class=\"form-control\" style=\"margin-top: 10px;\" placeholder=\"text\">\n"
     ]
    }
   ],
   "source": [
    "def build_html_from_obj(_type):\n",
    "    if _type == 'header':\n",
    "        return '<h1>HEADER</h1>'\n",
    "    if _type == 'title':\n",
    "        return '<h1>TITLE</h1>'\n",
    "    elif _type == 'paragraph':\n",
    "        return '<p style=\"margin-top: 10px;\">Lorem ipsum dolor sit amet, consectetur adipiscing elit, sed do eiusmod tempor incididunt ut labore et dolore magna aliqua. Ut enim ad minim veniam, quis nostrud exercitation ullamco laboris nisi ut aliquip ex ea commodo consequat. Duis aute irure dolor in reprehenderit in voluptate velit esse cillum dolore eu fugiat nulla pariatur. Excepteur sint occaecat cupidatat non proident, sunt in culpa qui officia deserunt mollit anim id est laborum.</p>'\n",
    "    elif _type == 'textinput':\n",
    "        return '<input type=\"text\" class=\"form-control\" style=\"margin-top: 10px;\" placeholder=\"text\">'\n",
    "    elif _type == 'button':\n",
    "        return '<button type=\"button\" class=\"btn btn-primary\" style=\"margin-top: 10px;\">Button</button>'\n",
    "    else:\n",
    "        raise ValueError('non handled object type:<' + _type +'>'  )\n",
    "\n",
    "#test build_html_from_obj function    \n",
    "print(build_html_from_obj('textinput'))\n",
    "        "
   ]
  },
  {
   "cell_type": "code",
   "execution_count": 4,
   "metadata": {
    "scrolled": true
   },
   "outputs": [
    {
     "name": "stdout",
     "output_type": "stream",
     "text": [
      "<html>\n",
      " <head>\n",
      "  <title>\n",
      "   Page Generated from Computer Vision\n",
      "  </title>\n",
      "  <meta charset=\"utf-8\"/>\n",
      "  <meta content=\"width=device-width, initial-scale=1\" name=\"viewport\"/>\n",
      "  <link href=\"https://maxcdn.bootstrapcdn.com/bootstrap/3.4.0/css/bootstrap.min.css\" rel=\"stylesheet\"/>\n",
      "  <script src=\"https://ajax.googleapis.com/ajax/libs/jquery/3.4.1/jquery.min.js\">\n",
      "  </script>\n",
      "  <script src=\"https://maxcdn.bootstrapcdn.com/bootstrap/3.4.0/js/bootstrap.min.js\">\n",
      "  </script>\n",
      " </head>\n",
      " <body>\n",
      "  <div class=\"container\">\n",
      "   <h1>\n",
      "    TITLE\n",
      "   </h1>\n",
      "   <p style=\"margin-top: 10px;\">\n",
      "    Lorem ipsum dolor sit amet, consectetur adipiscing elit, sed do eiusmod tempor incididunt ut labore et dolore magna aliqua. Ut enim ad minim veniam, quis nostrud exercitation ullamco laboris nisi ut aliquip ex ea commodo consequat. Duis aute irure dolor in reprehenderit in voluptate velit esse cillum dolore eu fugiat nulla pariatur. Excepteur sint occaecat cupidatat non proident, sunt in culpa qui officia deserunt mollit anim id est laborum.\n",
      "   </p>\n",
      "   <input class=\"form-control\" placeholder=\"text\" style=\"margin-top: 10px;\" type=\"text\"/>\n",
      "   <button class=\"btn btn-primary\" style=\"margin-top: 10px;\" type=\"button\">\n",
      "    Button\n",
      "   </button>\n",
      "   <input class=\"form-control\" placeholder=\"text\" style=\"margin-top: 10px;\" type=\"text\"/>\n",
      "   <button class=\"btn btn-primary\" style=\"margin-top: 10px;\" type=\"button\">\n",
      "    Button\n",
      "   </button>\n",
      "  </div>\n",
      " </body>\n",
      "</html>\n"
     ]
    }
   ],
   "source": [
    "from bs4 import BeautifulSoup as bs\n",
    "def yolo_objects_2_code_factory(yolo_objects):\n",
    "    sorted_objs=sort_yolo_objs_by_Top(yolo_objects)\n",
    "    html_code='<head> <title>Page Generated from Computer Vision</title> <meta charset=\"utf-8\"> <meta name=\"viewport\" content=\"width=device-width, initial-scale=1\"> <link rel=\"stylesheet\" href=\"https://maxcdn.bootstrapcdn.com/bootstrap/3.4.0/css/bootstrap.min.css\"> <script src=\"https://ajax.googleapis.com/ajax/libs/jquery/3.4.1/jquery.min.js\"></script> <script src=\"https://maxcdn.bootstrapcdn.com/bootstrap/3.4.0/js/bootstrap.min.js\"></script> </head><body><div class=\"container\">'\n",
    "    for obj in sorted_objs:\n",
    "        #print(obj)\n",
    "        html_code=html_code+build_html_from_obj(obj)\n",
    "    html_code=html_code+'</div></body></html>'\n",
    "    return bs(html_code).prettify()\n",
    "#test objects_2_code_factory  \n",
    "print(yolo_objects_2_code_factory({ 0:'title',1:'paragraph',  6:'button',4:'textinput' ,7:'textinput',8:'button'}))\n"
   ]
  },
  {
   "cell_type": "code",
   "execution_count": 5,
   "metadata": {},
   "outputs": [
    {
     "data": {
      "text/plain": [
       "{5: 'title', 1012: 'button', 1510: 'paragraph', 2535: 'button'}"
      ]
     },
     "execution_count": 5,
     "metadata": {},
     "output_type": "execute_result"
    }
   ],
   "source": [
    "def read_objects_from_yolo_file(yolo_obs_file):\n",
    "    myfile = open(yolo_obs_file)\n",
    "    next(myfile)# to skip the first line\n",
    "    yolo_detected_objs={}\n",
    "    for line in myfile:\n",
    "        _type=line.split(':')[0]\n",
    "        _top=int(next(myfile).split(' ')[2].split(':')[1])\n",
    "        yolo_detected_objs[_top]=_type\n",
    "    myfile.close()\n",
    "    return yolo_detected_objs\n",
    "\n",
    "#test read_objects_from_yolo_file\n",
    "read_objects_from_yolo_file('Yolo_files/predictions_3103.txt')"
   ]
  },
  {
   "cell_type": "code",
   "execution_count": 6,
   "metadata": {},
   "outputs": [
    {
     "name": "stdout",
     "output_type": "stream",
     "text": [
      "<html>\n",
      " <head>\n",
      "  <title>\n",
      "   Page Generated from Computer Vision\n",
      "  </title>\n",
      "  <meta charset=\"utf-8\"/>\n",
      "  <meta content=\"width=device-width, initial-scale=1\" name=\"viewport\"/>\n",
      "  <link href=\"https://maxcdn.bootstrapcdn.com/bootstrap/3.4.0/css/bootstrap.min.css\" rel=\"stylesheet\"/>\n",
      "  <script src=\"https://ajax.googleapis.com/ajax/libs/jquery/3.4.1/jquery.min.js\">\n",
      "  </script>\n",
      "  <script src=\"https://maxcdn.bootstrapcdn.com/bootstrap/3.4.0/js/bootstrap.min.js\">\n",
      "  </script>\n",
      " </head>\n",
      " <body>\n",
      "  <div class=\"container\">\n",
      "   <h1>\n",
      "    TITLE\n",
      "   </h1>\n",
      "   <input class=\"form-control\" placeholder=\"text\" style=\"margin-top: 10px;\" type=\"text\"/>\n",
      "   <button class=\"btn btn-primary\" style=\"margin-top: 10px;\" type=\"button\">\n",
      "    Button\n",
      "   </button>\n",
      "   <input class=\"form-control\" placeholder=\"text\" style=\"margin-top: 10px;\" type=\"text\"/>\n",
      "  </div>\n",
      " </body>\n",
      "</html>\n"
     ]
    }
   ],
   "source": [
    "print(yolo_objects_2_code_factory(read_objects_from_yolo_file('Yolo_files/predictions_3156.txt')))"
   ]
  },
  {
   "cell_type": "code",
   "execution_count": 7,
   "metadata": {},
   "outputs": [],
   "source": [
    "def write_html_code_from_yolo_prediction(html_page_path,yolo_prediction_file):\n",
    "    f = open(html_page_path,'w')\n",
    "    #2844,3103,3156\n",
    "    f.write(yolo_objects_2_code_factory(read_objects_from_yolo_file(yolo_prediction_file)))\n",
    "    f.close()\n",
    "    #install browsify in your PC:  npm install -g browser-sync, then start a node server :browser-sync start --server -w index.html\n",
    "    \n",
    "#test write_html_code_from_yolo_prediction \n",
    "write_html_code_from_yolo_prediction('Yolo_output_code/index.html', 'Yolo_files/predictions_3156.txt')"
   ]
  },
  {
   "cell_type": "code",
   "execution_count": 8,
   "metadata": {
    "scrolled": true
   },
   "outputs": [
    {
     "data": {
      "text/plain": [
       "''"
      ]
     },
     "execution_count": 8,
     "metadata": {},
     "output_type": "execute_result"
    }
   ],
   "source": [
    "import glob\n",
    "import os\n",
    "def get_last_prediction_file(yolo_prediction_folder):\n",
    "    if(not glob.glob(yolo_prediction_folder)):\n",
    "        return ''\n",
    "    list_of_files = glob.glob(yolo_prediction_folder)\n",
    "    latest_file = max(list_of_files, key=os.path.getmtime)\n",
    "    return latest_file\n",
    "\n",
    "#test get_last_prediction_file on folder 'C:/yolo_predictions/*'\n",
    "get_last_prediction_file('yolo_predictions/*')"
   ]
  },
  {
   "cell_type": "code",
   "execution_count": 9,
   "metadata": {},
   "outputs": [
    {
     "name": "stdout",
     "output_type": "stream",
     "text": [
      "already_handled_file:\n"
     ]
    },
    {
     "ename": "KeyboardInterrupt",
     "evalue": "",
     "output_type": "error",
     "traceback": [
      "\u001b[0;31m---------------------------------------------------------------------------\u001b[0m",
      "\u001b[0;31mKeyboardInterrupt\u001b[0m                         Traceback (most recent call last)",
      "\u001b[0;32m<ipython-input-9-51286e90af10>\u001b[0m in \u001b[0;36m<module>\u001b[0;34m()\u001b[0m\n\u001b[1;32m     30\u001b[0m \u001b[0;34m\u001b[0m\u001b[0m\n\u001b[1;32m     31\u001b[0m \u001b[0;31m#frame=[]\u001b[0m\u001b[0;34m\u001b[0m\u001b[0;34m\u001b[0m\u001b[0;34m\u001b[0m\u001b[0m\n\u001b[0;32m---> 32\u001b[0;31m \u001b[0mrewrite_html_each\u001b[0m\u001b[0;34m(\u001b[0m\u001b[0;36m1\u001b[0m\u001b[0;34m)\u001b[0m\u001b[0;34m\u001b[0m\u001b[0;34m\u001b[0m\u001b[0m\n\u001b[0m",
      "\u001b[0;32m<ipython-input-9-51286e90af10>\u001b[0m in \u001b[0;36mrewrite_html_each\u001b[0;34m(sec)\u001b[0m\n\u001b[1;32m     25\u001b[0m             \u001b[0mprint\u001b[0m\u001b[0;34m(\u001b[0m\u001b[0;34m'already_handled_file:'\u001b[0m\u001b[0;34m+\u001b[0m \u001b[0mstr\u001b[0m\u001b[0;34m(\u001b[0m\u001b[0malready_handled_file\u001b[0m\u001b[0;34m)\u001b[0m\u001b[0;34m)\u001b[0m\u001b[0;34m\u001b[0m\u001b[0;34m\u001b[0m\u001b[0m\n\u001b[1;32m     26\u001b[0m             \u001b[0mwrite_html_code_from_yolo_prediction\u001b[0m\u001b[0;34m(\u001b[0m\u001b[0;34m'Yolo_output_code/index.html'\u001b[0m\u001b[0;34m,\u001b[0m\u001b[0mlast_prediction_intime\u001b[0m\u001b[0;34m)\u001b[0m\u001b[0;34m\u001b[0m\u001b[0;34m\u001b[0m\u001b[0m\n\u001b[0;32m---> 27\u001b[0;31m         \u001b[0mtime\u001b[0m\u001b[0;34m.\u001b[0m\u001b[0msleep\u001b[0m\u001b[0;34m(\u001b[0m\u001b[0msec\u001b[0m\u001b[0;34m)\u001b[0m\u001b[0;34m\u001b[0m\u001b[0;34m\u001b[0m\u001b[0m\n\u001b[0m\u001b[1;32m     28\u001b[0m         \u001b[0malready_handled_file\u001b[0m\u001b[0;34m=\u001b[0m\u001b[0mlast_prediction_intime\u001b[0m\u001b[0;34m\u001b[0m\u001b[0;34m\u001b[0m\u001b[0m\n\u001b[1;32m     29\u001b[0m     \u001b[0;31m#webcam.release()\u001b[0m\u001b[0;34m\u001b[0m\u001b[0;34m\u001b[0m\u001b[0;34m\u001b[0m\u001b[0m\n",
      "\u001b[0;31mKeyboardInterrupt\u001b[0m: "
     ]
    }
   ],
   "source": [
    "import time\n",
    "import cv2\n",
    "#from PIL import Image, ImageTk\n",
    "#import tkinter\n",
    "#root = tkinter.Tk()\n",
    "\n",
    "def rewrite_html_each(sec):\n",
    "    #count=0\n",
    "    already_handled_file=None\n",
    "    #check = True\n",
    "    #webcam=cv2.VideoCapture(0)\n",
    "    while True:\n",
    "        #check,frame=webcam.read()\n",
    "        #cv2.flip(frame,1)\n",
    "        #inputname='frames/ok%d.jpg' % count        \n",
    "        #outputname='img/ok%d' % count\n",
    "        #cv2.imwrite(inputname,frame)\n",
    "        #yolopred='yolo_predictions/pred%d.txt' % count\n",
    "        #!./darknet detector test darknet.data yolov3-tiny-data.cfg weights/yolov3-tiny-data_final.weights $inputname -thresh 0.3 -out $outputname > $yolopred\n",
    "        #outputimg = cv2.imread(outputname+\".jpg\")\n",
    "        #cv2.imshow(\"Sketch recognition\",outputimg)\n",
    "        #count += 1\n",
    "        last_prediction_intime=get_last_prediction_file('yolo_predictions/*')\n",
    "        if(last_prediction_intime !='' and last_prediction_intime!=already_handled_file):\n",
    "            print('already_handled_file:'+ str(already_handled_file))\n",
    "            write_html_code_from_yolo_prediction('Yolo_output_code/index.html',last_prediction_intime)\n",
    "        time.sleep(sec)\n",
    "        already_handled_file=last_prediction_intime\n",
    "    #webcam.release()\n",
    "\n",
    "#frame=[]\n",
    "rewrite_html_each(1)"
   ]
  },
  {
   "cell_type": "code",
   "execution_count": null,
   "metadata": {},
   "outputs": [],
   "source": [
    "#check webcam is working\n",
    "import cv2\n",
    "webcam=cv2.VideoCapture(0)\n",
    "check,frame=webcam.read()\n",
    "cv2.imshow('frame',frame)\n",
    "webcam.release()"
   ]
  },
  {
   "cell_type": "code",
   "execution_count": null,
   "metadata": {},
   "outputs": [],
   "source": []
  }
 ],
 "metadata": {
  "kernelspec": {
   "display_name": "Python 3",
   "language": "python",
   "name": "python3"
  },
  "language_info": {
   "codemirror_mode": {
    "name": "ipython",
    "version": 3
   },
   "file_extension": ".py",
   "mimetype": "text/x-python",
   "name": "python",
   "nbconvert_exporter": "python",
   "pygments_lexer": "ipython3",
   "version": "3.6.8"
  }
 },
 "nbformat": 4,
 "nbformat_minor": 2
}
